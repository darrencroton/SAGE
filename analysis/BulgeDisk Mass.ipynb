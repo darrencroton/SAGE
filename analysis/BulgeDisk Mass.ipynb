{
 "cells": [
  {
   "cell_type": "code",
   "execution_count": 1,
   "metadata": {},
   "outputs": [
    {
     "name": "stdout",
     "output_type": "stream",
     "text": [
      "Populating the interactive namespace from numpy and matplotlib\n"
     ]
    }
   ],
   "source": [
    "%pylab inline"
   ]
  },
  {
   "cell_type": "code",
   "execution_count": 2,
   "metadata": {
    "collapsed": true
   },
   "outputs": [],
   "source": [
    "import numpy"
   ]
  },
  {
   "cell_type": "code",
   "execution_count": 3,
   "metadata": {
    "collapsed": true
   },
   "outputs": [],
   "source": [
    "Hubble_h = 0.73\n",
    "BoxSize = 62.5"
   ]
  },
  {
   "cell_type": "code",
   "execution_count": 4,
   "metadata": {
    "collapsed": true
   },
   "outputs": [],
   "source": [
    "directory1 = '../src/auxdata/trees/mini-millennium/'\n",
    "directory2 = '../src/auxdata/trees/modified-mini/'\n",
    "directory3 = '../src/auxdata/trees/modified-mini-2/'\n",
    "filename = 'model'\n",
    "redshift = [0.000]\n",
    "#snapshot = list(range(63, -1, -1))\n",
    "firstfile = 0\n",
    "lastfile = 7"
   ]
  },
  {
   "cell_type": "code",
   "execution_count": 5,
   "metadata": {
    "collapsed": true
   },
   "outputs": [],
   "source": [
    "def galdtype():\n",
    "\t# Define the data-type for the public version of SAGE\n",
    "\tGaldesc_full = [\n",
    "        ('SnapNum'                      , np.int32),\n",
    "        ('Type'                         , np.int32),\n",
    "        ('GalaxyIndex'                  , np.int64),\n",
    "        ('CentralGalaxyIndex'           , np.int64),\n",
    "        ('SAGEHaloIndex'                , np.int32),\n",
    "        ('SAGETreeIndex'                , np.int32),\n",
    "        ('SimulationHaloIndex'          , np.int64),\n",
    "        ('mergeType'                    , np.int32),\n",
    "        ('mergeIntoID'                  , np.int32),\n",
    "        ('mergeIntoSnapNum'             , np.int32),\n",
    "        ('dT'                           , np.float32),\n",
    "        ('Pos'                          , (np.float32, 3)),\n",
    "        ('Vel'                          , (np.float32, 3)),\n",
    "        ('Spin'                         , (np.float32, 3)),\n",
    "        ('Len'                          , np.int32),\n",
    "        ('Mvir'                         , np.float32),\n",
    "        ('CentralMvir'                  , np.float32),\n",
    "        ('Rvir'                         , np.float32),\n",
    "        ('Vvir'                         , np.float32),\n",
    "        ('Vmax'                         , np.float32),\n",
    "        ('VelDisp'                      , np.float32),\n",
    "        ('ColdGas'                      , np.float32),\n",
    "        ('StellarMass'                  , np.float32),\n",
    "        ('BulgeMass'                    , np.float32),\n",
    "        ('HotGas'                       , np.float32),\n",
    "        ('EjectedMass'                  , np.float32),\n",
    "        ('BlackHoleMass'                , np.float32),\n",
    "        ('IntraClusterStars'            , np.float32),\n",
    "        ('MetalsColdGas'                , np.float32),\n",
    "        ('MetalsStellarMass'            , np.float32),\n",
    "        ('MetalsBulgeMass'              , np.float32),\n",
    "        ('MetalsHotGas'                 , np.float32),\n",
    "        ('MetalsEjectedMass'            , np.float32),\n",
    "        ('MetalsIntraClusterStars'      , np.float32),\n",
    "        ('SfrDisk'                      , np.float32),\n",
    "        ('SfrBulge'                     , np.float32),\n",
    "        ('SfrDiskZ'                     , np.float32),\n",
    "        ('SfrBulgeZ'                    , np.float32),\n",
    "        ('DiskRadius'                   , np.float32),\n",
    "        ('Cooling'                      , np.float32),\n",
    "        ('Heating'                      , np.float32),\n",
    "        ('QuasarModeBHaccretionMass'    , np.float32),\n",
    "        ('TimeOfLastMajorMerger'         , np.float32),\n",
    "        ('TimeOfLastMinorMerger'         , np.float32),\n",
    "        ('OutflowRate'                  , np.float32),\n",
    "        ('infallMvir'                   , np.float32),\n",
    "        ('infallVvir'                   , np.float32),\n",
    "        ('infallVmax'                   , np.float32)\n",
    "        ]\n",
    "\tnames = [Galdesc_full[i][0] for i in range(len(Galdesc_full))]\n",
    "\tformats = [Galdesc_full[i][1] for i in range(len(Galdesc_full))]\n",
    "\tGaldesc = np.dtype({'names':names, 'formats':formats}, align=True)\n",
    "\treturn Galdesc"
   ]
  },
  {
   "cell_type": "code",
   "execution_count": 6,
   "metadata": {
    "collapsed": true
   },
   "outputs": [],
   "source": [
    "def read_one_file(name):\n",
    "    fin = open(name, 'rb')\n",
    "    Ntrees = np.fromfile(fin,np.dtype(np.int32),1)[0]\n",
    "    NtotGals = np.fromfile(fin,np.dtype(np.int32),1)[0]\n",
    "    GalsPerTree = np.fromfile(fin, np.dtype((np.int32, Ntrees)),1)[0]\n",
    "    G = np.fromfile(fin, Galdesc, NtotGals)\n",
    "    G = G.view(recarray)\n",
    "    return G"
   ]
  },
  {
   "cell_type": "code",
   "execution_count": 7,
   "metadata": {
    "collapsed": true
   },
   "outputs": [],
   "source": [
    "Galdesc = galdtype()\n",
    "\n",
    "for i in range(len(redshift)):\n",
    "    G_snap = []\n",
    "    G_snap_m = []\n",
    "    G_snap_m2 = []\n",
    "    GalsTree = []\n",
    "    for j in range(firstfile, lastfile+1):\n",
    "        name1 = (directory1+filename+'_z'+f'{redshift[i]:.3f}'+'_'+f'{j}')\n",
    "        name2 = (directory2+filename+'_z'+f'{redshift[i]:.3f}'+'_'+f'{j}')\n",
    "        name3 = (directory3+filename+'_z'+f'{redshift[i]:.3f}'+'_'+f'{j}')\n",
    "        #snapshot 0 = redshift 127, snapshot 63 = redshift 0\n",
    "        G1 = read_one_file(name1)\n",
    "        G_snap.extend(G1)\n",
    "        G2 = read_one_file(name2)\n",
    "        G_snap_m.extend(G2)\n",
    "        G3 = read_one_file(name3)\n",
    "        G_snap_m2.extend(G3)\n",
    "    G_snap = np.array(G_snap)\n",
    "    G_snap = G_snap.view(recarray)\n",
    "    G_snap_m = np.array(G_snap_m)\n",
    "    G_snap_m = G_snap_m.view(recarray)\n",
    "    G_snap_m2 = np.array(G_snap_m2)\n",
    "    G_snap_m2 = G_snap_m2.view(recarray)"
   ]
  },
  {
   "cell_type": "code",
   "execution_count": 8,
   "metadata": {},
   "outputs": [
    {
     "name": "stdout",
     "output_type": "stream",
     "text": [
      "36531 36531\n"
     ]
    }
   ],
   "source": [
    "print(len(G_snap.StellarMass), len(G_snap_m.StellarMass))"
   ]
  },
  {
   "cell_type": "code",
   "execution_count": 18,
   "metadata": {
    "collapsed": true
   },
   "outputs": [],
   "source": [
    "Mass1 = G_snap.StellarMass * 1.e10 / Hubble_h\n",
    "Mass2 = G_snap_m.StellarMass * 1.e10 / Hubble_h\n",
    "Mass3 = G_snap_m2.StellarMass * 1.e10 / Hubble_h\n",
    "BulgeMass1 = G_snap.BulgeMass * 1.e10 / Hubble_h \n",
    "BulgeMass2 = G_snap_m.BulgeMass * 1.e10 / Hubble_h \n",
    "BulgeMass3 = G_snap_m2.BulgeMass * 1.e10 / Hubble_h \n",
    "DiskMass1 = Mass1 - BulgeMass1\n",
    "DiskMass2 = Mass2 - BulgeMass2\n",
    "DiskMass3 = Mass3 - BulgeMass3"
   ]
  },
  {
   "cell_type": "code",
   "execution_count": 11,
   "metadata": {
    "collapsed": true
   },
   "outputs": [],
   "source": [
    "from mpl_toolkits.axes_grid1 import make_axes_locatable"
   ]
  },
  {
   "cell_type": "code",
   "execution_count": 22,
   "metadata": {},
   "outputs": [
    {
     "name": "stderr",
     "output_type": "stream",
     "text": [
      "/Users/dtriani/anaconda3/lib/python3.6/site-packages/ipykernel_launcher.py:11: RuntimeWarning: divide by zero encountered in log10\n",
      "  # This is added back by InteractiveShellApp.init_path()\n",
      "/Users/dtriani/anaconda3/lib/python3.6/site-packages/ipykernel_launcher.py:12: RuntimeWarning: divide by zero encountered in log10\n",
      "  if sys.path[0] == '':\n",
      "/Users/dtriani/anaconda3/lib/python3.6/site-packages/ipykernel_launcher.py:13: RuntimeWarning: divide by zero encountered in log10\n",
      "  del sys.path[0]\n",
      "/Users/dtriani/anaconda3/lib/python3.6/site-packages/ipykernel_launcher.py:14: RuntimeWarning: divide by zero encountered in log10\n",
      "  \n",
      "/Users/dtriani/anaconda3/lib/python3.6/site-packages/ipykernel_launcher.py:15: RuntimeWarning: divide by zero encountered in log10\n",
      "  from ipykernel import kernelapp as app\n",
      "/Users/dtriani/anaconda3/lib/python3.6/site-packages/ipykernel_launcher.py:16: RuntimeWarning: divide by zero encountered in log10\n",
      "  app.launch_new_instance()\n"
     ]
    },
    {
     "data": {
      "image/png": "[encoded data removed]",
      "text/plain": [
       "<matplotlib.figure.Figure at 0x107e8f6a0>"
      ]
     },
     "metadata": {},
     "output_type": "display_data"
    }
   ],
   "source": [
    "binwidth = 0.1\n",
    "\n",
    "ax0 = plt.subplot2grid((1,1), (0,0))\n",
    "divider = make_axes_locatable(ax0) \n",
    "#ax1 = divider.append_axes(\"bottom\", size=\"50%\", pad=0.3)\n",
    "\n",
    "mi = 8\n",
    "ma = 12\n",
    "NB = int((ma - mi) / binwidth)\n",
    "\n",
    "(b1_counts, b1_binedges) = np.histogram(np.log10(BulgeMass1), range=(mi, ma), bins=NB)\n",
    "(b2_counts, b2_binedges) = np.histogram(np.log10(BulgeMass2), range=(mi, ma), bins=NB)\n",
    "(b3_counts, b3_binedges) = np.histogram(np.log10(BulgeMass3), range=(mi, ma), bins=NB)\n",
    "(d1_counts, d1_binedges) = np.histogram(np.log10(DiskMass1), range=(mi, ma), bins=NB)\n",
    "(d2_counts, d2_binedges) = np.histogram(np.log10(DiskMass2), range=(mi, ma), bins=NB)\n",
    "(d3_counts, d3_binedges) = np.histogram(np.log10(DiskMass3), range=(mi, ma), bins=NB)\n",
    "\n",
    "# Set the x-axis values to be the centre of the bins\n",
    "b1_x = b1_binedges[:-1] + 0.5 * binwidth\n",
    "b2_x = b2_binedges[:-1] + 0.5 * binwidth\n",
    "b3_x = b3_binedges[:-1] + 0.5 * binwidth\n",
    "d1_x = d1_binedges[:-1] + 0.5 * binwidth\n",
    "d2_x = d2_binedges[:-1] + 0.5 * binwidth\n",
    "d3_x = b3_binedges[:-1] + 0.5 * binwidth\n",
    "\n",
    "# Overplot the model histograms\n",
    "ax0.plot(b1_x, b1_counts / (BoxSize*Hubble_h)**3 / binwidth, 'r', label='Bulge Mass', lw=0.5)\n",
    "ax0.plot(b2_x, b2_counts / (BoxSize*Hubble_h)**3 / binwidth, 'r--', label='Bulge Mass (change 1)', lw=0.7)\n",
    "ax0.plot(b3_x, b3_counts / (BoxSize*Hubble_h)**3 / binwidth, 'r:', label='Bulge Mass (change 2)', lw=1.0)\n",
    "ax0.plot(d1_x, d1_counts / (BoxSize*Hubble_h)**3 / binwidth, 'b', label='Disk Mass', lw=0.5)\n",
    "ax0.plot(d2_x, d2_counts / (BoxSize*Hubble_h)**3 / binwidth, 'b--', label='Disk Mass (change 1)', lw=0.7)\n",
    "ax0.plot(d3_x, d3_counts / (BoxSize*Hubble_h)**3 / binwidth, 'b:', label='Disk Mass (change 2)', lw=1.0)\n",
    "#ax0.plot(s1_x, s1_counts / (BoxSize*Hubble_h)**3 / binwidth, 'k', label='Stellar Mass', lw=0.5)\n",
    "#ax0.plot(s2_x, s2_counts / (BoxSize*Hubble_h)**3 / binwidth, 'k--', label='Stellar Mass (switch on)', lw=0.5)\n",
    "\n",
    "\n",
    "#plt.plot(mass, label='computed')\n",
    "#plt.plot(Mass, label='intrinsic')\n",
    "ax0.set_yscale('log', nonposy='clip')\n",
    "#plt.axis([8.0, 12.5, 1.0e-6, 1.0e-1])\n",
    "\n",
    "# Set the x-axis minor ticks\n",
    "ax0.xaxis.set_minor_locator(plt.MultipleLocator(0.1))\n",
    "ax0.set_ylabel(r'$\\phi\\ (\\mathrm{Mpc}^{-3}\\ \\mathrm{dex}^{-1}$)')  # Set the y...\n",
    "\n",
    "leg = ax0.legend(loc=0, numpoints=1, labelspacing=0.1)\n",
    "leg.draw_frame(False)  # Don't want a box frame\n",
    "for t in leg.get_texts():  # Reduce the size of the text\n",
    "    t.set_fontsize('medium')\n",
    "    \n",
    "plt.tight_layout()\n",
    "plt.savefig('DBMF-2.png')"
   ]
  },
  {
   "cell_type": "code",
   "execution_count": 9,
   "metadata": {
    "collapsed": true
   },
   "outputs": [],
   "source": [
    "stellarmass = G_snap.StellarMass * 1.e10 / Hubble_h\n",
    "w = np.where(G_snap.ColdGas > 0.0)[0]\n",
    "gasmass = G_snap.ColdGas[w] * 1.e10 / Hubble_h"
   ]
  },
  {
   "cell_type": "code",
   "execution_count": 15,
   "metadata": {},
   "outputs": [
    {
     "data": {
      "image/png": "[encoded data removed]",
      "text/plain": [
       "<matplotlib.figure.Figure at 0x10d4a3828>"
      ]
     },
     "metadata": {},
     "output_type": "display_data"
    }
   ],
   "source": [
    "binwidth = 0.3\n",
    "\n",
    "ax0 = plt.subplot2grid((1,1), (0,0))\n",
    "divider = make_axes_locatable(ax0) \n",
    "#ax1 = divider.append_axes(\"bottom\", size=\"50%\", pad=0.3)\n",
    "\n",
    "# Baldry+ 2008 modified data used for the MCMC fitting\n",
    "Zwaan = np.array([[6.933,   -0.333],\n",
    "            [7.057,   -0.490],\n",
    "            [7.209,   -0.698],\n",
    "            [7.365,   -0.667],\n",
    "            [7.528,   -0.823],\n",
    "            [7.647,   -0.958],\n",
    "            [7.809,   -0.917],\n",
    "            [7.971,   -0.948],\n",
    "            [8.112,   -0.927],\n",
    "            [8.263,   -0.917],\n",
    "            [8.404,   -1.062],\n",
    "            [8.566,   -1.177],\n",
    "            [8.707,   -1.177],\n",
    "            [8.853,   -1.312],\n",
    "            [9.010,   -1.344],\n",
    "            [9.161,   -1.448],\n",
    "            [9.302,   -1.604],\n",
    "            [9.448,   -1.792],\n",
    "            [9.599,   -2.021],\n",
    "            [9.740,   -2.406],\n",
    "            [9.897,   -2.615],\n",
    "            [10.053,  -3.031],\n",
    "            [10.178,  -3.677],\n",
    "            [10.335,  -4.448],\n",
    "            [10.492,  -5.083]        ], dtype=np.float32)\n",
    "        \n",
    "ObrRaw = np.array([\n",
    "            [7.300,   -1.104],\n",
    "            [7.576,   -1.302],\n",
    "            [7.847,   -1.250],\n",
    "            [8.133,   -1.240],\n",
    "            [8.409,   -1.344],\n",
    "            [8.691,   -1.479],\n",
    "            [8.956,   -1.792],\n",
    "            [9.231,   -2.271],\n",
    "            [9.507,   -3.198],\n",
    "            [9.788,   -5.062 ]        ], dtype=np.float32)\n",
    "\n",
    "ObrCold = np.array([\n",
    "            [8.009,   -1.042],\n",
    "            [8.215,   -1.156],\n",
    "            [8.409,   -0.990],\n",
    "            [8.604,   -1.156],\n",
    "            [8.799,   -1.208],\n",
    "            [9.020,   -1.333],\n",
    "            [9.194,   -1.385],\n",
    "            [9.404,   -1.552],\n",
    "            [9.599,   -1.677],\n",
    "            [9.788,   -1.812],\n",
    "            [9.999,   -2.312],\n",
    "            [10.172,  -2.656],\n",
    "            [10.362,  -3.500],\n",
    "            [10.551,  -3.635],\n",
    "            [10.740,  -5.010]        ], dtype=np.float32)\n",
    "\n",
    "ObrCold_xval = np.log10(10**(ObrCold[:, 0])  /Hubble_h/Hubble_h)\n",
    "ObrCold_yval = (10**(ObrCold[:, 1]) * Hubble_h*Hubble_h*Hubble_h)\n",
    "Zwaan_xval = np.log10(10**(Zwaan[:, 0]) /Hubble_h/Hubble_h)\n",
    "Zwaan_yval = (10**(Zwaan[:, 1]) * Hubble_h*Hubble_h*Hubble_h)\n",
    "ObrRaw_xval = np.log10(10**(ObrRaw[:, 0])  /Hubble_h/Hubble_h)\n",
    "ObrRaw_yval = (10**(ObrRaw[:, 1]) * Hubble_h*Hubble_h*Hubble_h)\n",
    "\n",
    "ax0.plot(ObrCold_xval, ObrCold_yval, color='black', lw = 7, alpha=0.25, label='Obr. \\& Raw. 2009 (Cold Gas)')\n",
    "ax0.plot(Zwaan_xval, Zwaan_yval, color='cyan', lw = 7, alpha=0.25, label='Zwaan et al. 2005 (HI)')\n",
    "ax0.plot(ObrRaw_xval, ObrRaw_yval, color='magenta', lw = 7, alpha=0.25, label='Obr. \\& Raw. 2009 (H2)')\n",
    "        \n",
    "mi = np.floor(min(np.log10(gasmass))) - 2\n",
    "ma = np.floor(max(np.log10(gasmass))) + 2\n",
    "NB = int((ma - mi) / binwidth)\n",
    "\n",
    "(g_counts, g_binedges) = np.histogram(np.log10(gasmass), range=(mi, ma), bins=NB)\n",
    "#(H2_counts, H2_binedges) = np.histogram(np.log10(H2mass), range=(mi, ma), bins=NB)\n",
    "#(HI_counts, HI_binedges) = np.histogram(np.log10(HImass), range=(mi, ma), bins=NB)\n",
    "\n",
    "# Set the x-axis values to be the centre of the bins\n",
    "g_x = g_binedges[:-1] + 0.5 * binwidth\n",
    "#H2_x = H2_binedges[:-1] + 0.5 * binwidth\n",
    "#HI_x = HI_binedges[:-1] + 0.5 * binwidth\n",
    "\n",
    "# Overplot the model histograms\n",
    "ax0.plot(g_x, g_counts / (BoxSize/Hubble_h)**3 / binwidth, label='Cold Gas', lw=1.0)\n",
    "#ax0.plot(H2_x, H2_counts / (BoxSize*Hubble_h)**3 / binwidth, label='H2', lw=1.0)\n",
    "#ax0.plot(HI_x, HI_counts / (BoxSize*Hubble_h)**3 / binwidth, label='HI', lw=1.0)\n",
    "\n",
    "#plt.plot(mass, label='computed')\n",
    "#plt.plot(Mass, label='intrinsic')\n",
    "ax0.set_yscale('log', nonposy='clip')\n",
    "#plt.axis([8.0, 12.5, 1.0e-6, 1.0e-1])\n",
    "\n",
    "# Set the x-axis minor ticks\n",
    "ax0.xaxis.set_minor_locator(plt.MultipleLocator(0.1))\n",
    "ax0.set_ylabel(r'$\\phi\\ (\\mathrm{Mpc}^{-3}\\ \\mathrm{dex}^{-1}$)')  # Set the y...\n",
    "ax0.set_xlabel(r'$\\log_{10} M_{\\mathrm{X}}\\ (M_{\\odot})$')\n",
    "ax0.set_xlim(8.0, 11.5)\n",
    "\n",
    "leg = ax0.legend(loc=0, numpoints=1, labelspacing=0.1)\n",
    "leg.draw_frame(False)  # Don't want a box frame\n",
    "for t in leg.get_texts():  # Reduce the size of the text\n",
    "    t.set_fontsize('medium')\n",
    "    \n",
    "plt.tight_layout()\n",
    "plt.show()"
   ]
  },
  {
   "cell_type": "code",
   "execution_count": null,
   "metadata": {
    "collapsed": true
   },
   "outputs": [],
   "source": []
  }
 ],
 "metadata": {
  "kernelspec": {
   "display_name": "Python 3",
   "language": "python",
   "name": "python3"
  },
  "language_info": {
   "codemirror_mode": {
    "name": "ipython",
    "version": 3
   },
   "file_extension": ".py",
   "mimetype": "text/x-python",
   "name": "python",
   "nbconvert_exporter": "python",
   "pygments_lexer": "ipython3",
   "version": "3.6.10"
  }
 },
 "nbformat": 4,
 "nbformat_minor": 2
}
