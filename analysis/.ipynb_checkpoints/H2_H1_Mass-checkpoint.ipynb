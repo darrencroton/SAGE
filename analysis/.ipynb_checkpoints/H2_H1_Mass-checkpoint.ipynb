{
 "cells": [
  {
   "cell_type": "code",
   "execution_count": 1,
   "metadata": {},
   "outputs": [
    {
     "name": "stdout",
     "output_type": "stream",
     "text": [
      "Populating the interactive namespace from numpy and matplotlib\n"
     ]
    }
   ],
   "source": [
    "%pylab inline"
   ]
  },
  {
   "cell_type": "code",
   "execution_count": 2,
   "metadata": {
    "collapsed": true
   },
   "outputs": [],
   "source": [
    "import numpy"
   ]
  },
  {
   "cell_type": "code",
   "execution_count": 3,
   "metadata": {
    "collapsed": true
   },
   "outputs": [],
   "source": [
    "Hubble_h = 0.73\n",
    "BoxSize = 62.5"
   ]
  },
  {
   "cell_type": "code",
   "execution_count": 4,
   "metadata": {
    "collapsed": true
   },
   "outputs": [],
   "source": [
    "directory = '../src/auxdata/trees/modified-SF-2/'\n",
    "#directory1 = '../src/auxdata/trees/modified-H2-CF/'\n",
    "filename = 'model'\n",
    "redshift = [0.000]\n",
    "#snapshot = list(range(63, -1, -1))\n",
    "firstfile = 0\n",
    "lastfile = 7"
   ]
  },
  {
   "cell_type": "code",
   "execution_count": 5,
   "metadata": {
    "collapsed": true
   },
   "outputs": [],
   "source": [
    "def galdtype():\n",
    "\t# Define the data-type for the public version of SAGE\n",
    "\tGaldesc_full = [\n",
    "        ('SnapNum'                      , np.int32),\n",
    "        ('Type'                         , np.int32),\n",
    "        ('GalaxyIndex'                  , np.int64),\n",
    "        ('CentralGalaxyIndex'           , np.int64),\n",
    "        ('SAGEHaloIndex'                , np.int32),\n",
    "        ('SAGETreeIndex'                , np.int32),\n",
    "        ('SimulationHaloIndex'          , np.int64),\n",
    "        ('mergeType'                    , np.int32),\n",
    "        ('mergeIntoID'                  , np.int32),\n",
    "        ('mergeIntoSnapNum'             , np.int32),\n",
    "        ('dT'                           , np.float32),\n",
    "        ('Pos'                          , (np.float32, 3)),\n",
    "        ('Vel'                          , (np.float32, 3)),\n",
    "        ('Spin'                         , (np.float32, 3)),\n",
    "        ('Len'                          , np.int32),\n",
    "        ('Mvir'                         , np.float32),\n",
    "        ('CentralMvir'                  , np.float32),\n",
    "        ('Rvir'                         , np.float32),\n",
    "        ('Vvir'                         , np.float32),\n",
    "        ('Vmax'                         , np.float32),\n",
    "        ('VelDisp'                      , np.float32),\n",
    "        ('ColdGas'                      , np.float32),\n",
    "        ('f_H2'                         , np.float32),\n",
    "        ('f_HI'                         , np.float32),\n",
    "        ('cf'                           , np.float32),\n",
    "        ('Zp'                           , np.float32),\n",
    "        ('StellarMass'                  , np.float32),\n",
    "        ('BulgeMass'                    , np.float32),\n",
    "        ('HotGas'                       , np.float32),\n",
    "        ('EjectedMass'                  , np.float32),\n",
    "        ('BlackHoleMass'                , np.float32),\n",
    "        ('IntraClusterStars'            , np.float32),\n",
    "        ('MetalsColdGas'                , np.float32),\n",
    "        ('MetalsStellarMass'            , np.float32),\n",
    "        ('MetalsBulgeMass'              , np.float32),\n",
    "        ('MetalsHotGas'                 , np.float32),\n",
    "        ('MetalsEjectedMass'            , np.float32),\n",
    "        ('MetalsIntraClusterStars'      , np.float32),\n",
    "        ('SfrDisk'                      , np.float32),\n",
    "        ('SfrBulge'                     , np.float32),\n",
    "        ('SfrDiskZ'                     , np.float32),\n",
    "        ('SfrBulgeZ'                    , np.float32),\n",
    "        ('DiskRadius'                   , np.float32),\n",
    "        ('Cooling'                      , np.float32),\n",
    "        ('Heating'                      , np.float32),\n",
    "        ('QuasarModeBHaccretionMass'    , np.float32),\n",
    "        ('TimeOfLastMajorMerger'         , np.float32),\n",
    "        ('TimeOfLastMinorMerger'         , np.float32),\n",
    "        ('OutflowRate'                  , np.float32),\n",
    "        ('infallMvir'                   , np.float32),\n",
    "        ('infallVvir'                   , np.float32),\n",
    "        ('infallVmax'                   , np.float32)\n",
    "        ]\n",
    "\tnames = [Galdesc_full[i][0] for i in range(len(Galdesc_full))]\n",
    "\tformats = [Galdesc_full[i][1] for i in range(len(Galdesc_full))]\n",
    "\tGaldesc = np.dtype({'names':names, 'formats':formats}, align=True)\n",
    "\treturn Galdesc"
   ]
  },
  {
   "cell_type": "code",
   "execution_count": 6,
   "metadata": {
    "collapsed": true
   },
   "outputs": [],
   "source": [
    "def read_one_file(name):\n",
    "    fin = open(name, 'rb')\n",
    "    Ntrees = np.fromfile(fin,np.dtype(np.int32),1)[0]\n",
    "    NtotGals = np.fromfile(fin,np.dtype(np.int32),1)[0]\n",
    "    GalsPerTree = np.fromfile(fin, np.dtype((np.int32, Ntrees)),1)[0]\n",
    "    G = np.fromfile(fin, Galdesc, NtotGals)\n",
    "    G = G.view(recarray)\n",
    "    return G"
   ]
  },
  {
   "cell_type": "code",
   "execution_count": 7,
   "metadata": {},
   "outputs": [],
   "source": [
    "Galdesc = galdtype()\n",
    "\n",
    "for i in range(len(redshift)):\n",
    "    G_snap = []\n",
    "    G_snap1 = []\n",
    "    GalsTree = []\n",
    "    for j in range(firstfile, lastfile+1):\n",
    "        name = (directory+filename+'_z'+f'{redshift[i]:.3f}'+'_'+f'{j}')\n",
    "        #name1 = (directory1+filename+'_z'+f'{redshift[i]:.3f}'+'_'+f'{j}')\n",
    "        #snapshot 0 = redshift 127, snapshot 63 = redshift 0\n",
    "        G = read_one_file(name)\n",
    "        #G1 = read_one_file(name1)\n",
    "        G_snap.extend(G)\n",
    "        #G_snap1.extend(G1)\n",
    "    G_snap = np.array(G_snap)\n",
    "    #G_snap1 = np.array(G_snap1)\n",
    "    G_snap = G_snap.view(recarray)\n",
    "    #G_snap1 = G_snap1.view(recarray)"
   ]
  },
  {
   "cell_type": "code",
   "execution_count": 8,
   "metadata": {},
   "outputs": [
    {
     "data": {
      "text/plain": [
       "36490"
      ]
     },
     "execution_count": 8,
     "metadata": {},
     "output_type": "execute_result"
    }
   ],
   "source": [
    "len(G_snap)"
   ]
  },
  {
   "cell_type": "code",
   "execution_count": 9,
   "metadata": {
    "collapsed": true
   },
   "outputs": [],
   "source": [
    "stellarmass = G_snap.StellarMass * 1.e10 / Hubble_h\n",
    "g = np.where(G_snap.ColdGas > 0.0)[0]\n",
    "#w = np.where(((G_snap.BulgeMass / G_snap.StellarMass) < 0.3) & (G_snap.ColdGas > 0.0))[0]\n",
    "gasmass = G_snap.ColdGas[g] * 1.e10 / Hubble_h\n",
    "H2mass = G_snap.f_H2[g] * G_snap.ColdGas[g] * 1.e10 / Hubble_h\n",
    "HImass = G_snap.f_HI[g] * G_snap.ColdGas[g] * 1.e10 / Hubble_h"
   ]
  },
  {
   "cell_type": "code",
   "execution_count": 10,
   "metadata": {},
   "outputs": [
    {
     "data": {
      "text/plain": [
       "1.9796062e+10"
      ]
     },
     "execution_count": 10,
     "metadata": {},
     "output_type": "execute_result"
    }
   ],
   "source": [
    "max(H2mass)"
   ]
  },
  {
   "cell_type": "code",
   "execution_count": 11,
   "metadata": {},
   "outputs": [
    {
     "data": {
      "text/plain": [
       "'\\nstellarmass1 = G_snap1.StellarMass * 1.e10 / Hubble_h\\n#w = np.where(G_snap.ColdGas > 0.0)[0]\\nw = np.where(((G_snap1.BulgeMass / G_snap1.StellarMass) < 0.3) & (G_snap1.ColdGas > 0.0))[0]\\ngasmass1 = G_snap1.ColdGas[w] * 1.e10 / Hubble_h\\nH2mass1 = G_snap1.H2Gas[w] * 1.e10 / Hubble_h\\nHImass1 = G_snap1.HIGas[w] * 1.e10 / Hubble_h\\n'"
      ]
     },
     "execution_count": 11,
     "metadata": {},
     "output_type": "execute_result"
    }
   ],
   "source": [
    "'''\n",
    "stellarmass1 = G_snap1.StellarMass * 1.e10 / Hubble_h\n",
    "#w = np.where(G_snap.ColdGas > 0.0)[0]\n",
    "w = np.where(((G_snap1.BulgeMass / G_snap1.StellarMass) < 0.3) & (G_snap1.ColdGas > 0.0))[0]\n",
    "gasmass1 = G_snap1.ColdGas[w] * 1.e10 / Hubble_h\n",
    "H2mass1 = G_snap1.H2Gas[w] * 1.e10 / Hubble_h\n",
    "HImass1 = G_snap1.HIGas[w] * 1.e10 / Hubble_h\n",
    "'''"
   ]
  },
  {
   "cell_type": "code",
   "execution_count": 12,
   "metadata": {
    "collapsed": true
   },
   "outputs": [],
   "source": [
    "from mpl_toolkits.axes_grid1 import make_axes_locatable\n",
    "import matplotlib.pyplot as plt\n",
    "plt.rcParams['figure.dpi'] = 80"
   ]
  },
  {
   "cell_type": "code",
   "execution_count": 21,
   "metadata": {},
   "outputs": [
    {
     "name": "stderr",
     "output_type": "stream",
     "text": [
      "/Users/dtriani/anaconda3/lib/python3.6/site-packages/ipykernel_launcher.py:79: RuntimeWarning: divide by zero encountered in log10\n",
      "/Users/dtriani/anaconda3/lib/python3.6/site-packages/numpy/lib/function_base.py:748: RuntimeWarning: invalid value encountered in greater_equal\n",
      "  keep = (tmp_a >= mn)\n",
      "/Users/dtriani/anaconda3/lib/python3.6/site-packages/numpy/lib/function_base.py:749: RuntimeWarning: invalid value encountered in less_equal\n",
      "  keep &= (tmp_a <= mx)\n"
     ]
    },
    {
     "data": {
      "image/png": "[encoded data removed]",
      "text/plain": [
       "<matplotlib.figure.Figure at 0x110e82b00>"
      ]
     },
     "metadata": {},
     "output_type": "display_data"
    }
   ],
   "source": [
    "binwidth = 0.3\n",
    "\n",
    "ax0 = plt.subplot2grid((1,1), (0,0))\n",
    "divider = make_axes_locatable(ax0) \n",
    "#ax1 = divider.append_axes(\"bottom\", size=\"50%\", pad=0.3)\n",
    "\n",
    "# Baldry+ 2008 modified data used for the MCMC fitting\n",
    "Zwaan = np.array([[6.933,   -0.333],\n",
    "            [7.057,   -0.490],\n",
    "            [7.209,   -0.698],\n",
    "            [7.365,   -0.667],\n",
    "            [7.528,   -0.823],\n",
    "            [7.647,   -0.958],\n",
    "            [7.809,   -0.917],\n",
    "            [7.971,   -0.948],\n",
    "            [8.112,   -0.927],\n",
    "            [8.263,   -0.917],\n",
    "            [8.404,   -1.062],\n",
    "            [8.566,   -1.177],\n",
    "            [8.707,   -1.177],\n",
    "            [8.853,   -1.312],\n",
    "            [9.010,   -1.344],\n",
    "            [9.161,   -1.448],\n",
    "            [9.302,   -1.604],\n",
    "            [9.448,   -1.792],\n",
    "            [9.599,   -2.021],\n",
    "            [9.740,   -2.406],\n",
    "            [9.897,   -2.615],\n",
    "            [10.053,  -3.031],\n",
    "            [10.178,  -3.677],\n",
    "            [10.335,  -4.448],\n",
    "            [10.492,  -5.083]        ], dtype=np.float32)\n",
    "        \n",
    "ObrRaw = np.array([\n",
    "            [7.300,   -1.104],\n",
    "            [7.576,   -1.302],\n",
    "            [7.847,   -1.250],\n",
    "            [8.133,   -1.240],\n",
    "            [8.409,   -1.344],\n",
    "            [8.691,   -1.479],\n",
    "            [8.956,   -1.792],\n",
    "            [9.231,   -2.271],\n",
    "            [9.507,   -3.198],\n",
    "            [9.788,   -5.062 ]        ], dtype=np.float32)\n",
    "\n",
    "ObrCold = np.array([\n",
    "            [8.009,   -1.042],\n",
    "            [8.215,   -1.156],\n",
    "            [8.409,   -0.990],\n",
    "            [8.604,   -1.156],\n",
    "            [8.799,   -1.208],\n",
    "            [9.020,   -1.333],\n",
    "            [9.194,   -1.385],\n",
    "            [9.404,   -1.552],\n",
    "            [9.599,   -1.677],\n",
    "            [9.788,   -1.812],\n",
    "            [9.999,   -2.312],\n",
    "            [10.172,  -2.656],\n",
    "            [10.362,  -3.500],\n",
    "            [10.551,  -3.635],\n",
    "            [10.740,  -5.010]        ], dtype=np.float32)\n",
    "\n",
    "ObrCold_xval = np.log10(10**(ObrCold[:, 0])  /Hubble_h/Hubble_h)\n",
    "ObrCold_yval = (10**(ObrCold[:, 1]) * Hubble_h*Hubble_h*Hubble_h)\n",
    "Zwaan_xval = np.log10(10**(Zwaan[:, 0]) /Hubble_h/Hubble_h)\n",
    "Zwaan_yval = (10**(Zwaan[:, 1]) * Hubble_h*Hubble_h*Hubble_h)\n",
    "ObrRaw_xval = np.log10(10**(ObrRaw[:, 0])  /Hubble_h/Hubble_h)\n",
    "ObrRaw_yval = (10**(ObrRaw[:, 1]) * Hubble_h*Hubble_h*Hubble_h)\n",
    "\n",
    "ax0.plot(ObrCold_xval, ObrCold_yval, color='black', lw = 7, alpha=0.25, label='Obr. \\& Raw. 2009 (Cold Gas)')\n",
    "ax0.plot(Zwaan_xval, Zwaan_yval, color='blue', lw = 7, alpha=0.25, label='Zwaan et al. 2005 (HI)')\n",
    "ax0.plot(ObrRaw_xval, ObrRaw_yval, color='red', lw = 7, alpha=0.25, label='Obr. \\& Raw. 2009 (H2)')\n",
    "        \n",
    "mi = np.floor(min(np.log10(gasmass))) - 2\n",
    "ma = np.floor(max(np.log10(gasmass))) + 2\n",
    "NB = int((ma - mi) / binwidth)\n",
    "\n",
    "(g_counts, g_binedges) = np.histogram(np.log10(gasmass), range=(mi, ma), bins=NB)\n",
    "(H2_counts, H2_binedges) = np.histogram(np.log10(H2mass), range=(mi, ma), bins=NB)\n",
    "(HI_counts, HI_binedges) = np.histogram(np.log10(HImass), range=(mi, ma), bins=NB)\n",
    "'''\n",
    "(g1_counts, g1_binedges) = np.histogram(np.log10(gasmass1), range=(mi, ma), bins=NB)\n",
    "(H21_counts, H21_binedges) = np.histogram(np.log10(H2mass1), range=(mi, ma), bins=NB)\n",
    "(HI1_counts, HI1_binedges) = np.histogram(np.log10(HImass1), range=(mi, ma), bins=NB)\n",
    "'''\n",
    "# Set the x-axis values to be the centre of the bins\n",
    "g_x = g_binedges[:-1] + 0.5 * binwidth\n",
    "H2_x = H2_binedges[:-1] + 0.5 * binwidth\n",
    "HI_x = HI_binedges[:-1] + 0.5 * binwidth\n",
    "'''\n",
    "g1_x = g1_binedges[:-1] + 0.5 * binwidth\n",
    "H21_x = H21_binedges[:-1] + 0.5 * binwidth\n",
    "HI1_x = HI1_binedges[:-1] + 0.5 * binwidth\n",
    "'''\n",
    "# Overplot the model histograms\n",
    "'''\n",
    "ax0.plot(g1_x, g1_counts / (BoxSize/Hubble_h)**3 / binwidth, 'k', label='Cold Gas', lw=1.0)\n",
    "ax0.plot(HI1_x, HI1_counts / (BoxSize/Hubble_h)**3 / binwidth, 'b', label='HI', lw=1.0)\n",
    "ax0.plot(H21_x, H21_counts / (BoxSize/Hubble_h)**3 / binwidth, 'r', label='H2', lw=1.0)\n",
    "'''\n",
    "ax0.plot(g_x, g_counts / (BoxSize/Hubble_h)**3 / binwidth, 'k--', label='Stars from H2', lw=1.0)\n",
    "ax0.plot(HI_x, HI_counts / (BoxSize/Hubble_h)**3 / binwidth, 'b--',  lw=1.0)\n",
    "ax0.plot(H2_x, H2_counts / (BoxSize/Hubble_h)**3 / binwidth, 'r--', lw=1.0)\n",
    "\n",
    "\n",
    "#plt.plot(mass, label='computed')\n",
    "#plt.plot(Mass, label='intrinsic')\n",
    "ax0.set_yscale('log', nonposy='clip')\n",
    "#plt.axis([8.0, 12.5, 1.0e-6, 1.0e-1])\n",
    "\n",
    "# Set the x-axis minor ticks\n",
    "ax0.xaxis.set_minor_locator(plt.MultipleLocator(0.1))\n",
    "ax0.set_ylabel(r'$\\phi\\ (\\mathrm{Mpc}^{-3}\\ \\mathrm{dex}^{-1}$)')  # Set the y...\n",
    "ax0.set_xlabel(r'$\\log_{10} M_{\\mathrm{X}}\\ (M_{\\odot})$')\n",
    "ax0.set_xlim(8.0, 11.5)\n",
    "\n",
    "leg = ax0.legend(loc=0, numpoints=1, labelspacing=0.1)\n",
    "leg.draw_frame(False)  # Don't want a box frame\n",
    "for t in leg.get_texts():  # Reduce the size of the text\n",
    "    t.set_fontsize('medium')\n",
    "    \n",
    "plt.tight_layout()\n",
    "#plt.savefig('GMF-flatcf.png')\n",
    "plt.show()"
   ]
  },
  {
   "cell_type": "code",
   "execution_count": 14,
   "metadata": {},
   "outputs": [
    {
     "name": "stdout",
     "output_type": "stream",
     "text": [
      "[]\n"
     ]
    },
    {
     "name": "stderr",
     "output_type": "stream",
     "text": [
      "/Users/dtriani/anaconda3/lib/python3.6/site-packages/ipykernel_launcher.py:1: RuntimeWarning: invalid value encountered in greater\n",
      "  \"\"\"Entry point for launching an IPython kernel.\n"
     ]
    }
   ],
   "source": [
    "w = np.where(HImass > gasmass)[0]\n",
    "print(w)"
   ]
  },
  {
   "cell_type": "code",
   "execution_count": 22,
   "metadata": {},
   "outputs": [
    {
     "name": "stderr",
     "output_type": "stream",
     "text": [
      "/Users/dtriani/anaconda3/lib/python3.6/site-packages/ipykernel_launcher.py:74: RuntimeWarning: divide by zero encountered in log10\n"
     ]
    },
    {
     "data": {
      "image/png": "[encoded data removed]",
      "text/plain": [
       "<matplotlib.figure.Figure at 0x1071e89e8>"
      ]
     },
     "metadata": {},
     "output_type": "display_data"
    }
   ],
   "source": [
    "binwidth = 0.3\n",
    "\n",
    "ax0 = plt.subplot2grid((1,1), (0,0))\n",
    "divider = make_axes_locatable(ax0) \n",
    "\n",
    "# Baldry+ 2008 modified data used for the MCMC fitting\n",
    "Baldry = np.array([\n",
    "            [7.05, 1.3531e-01, 6.0741e-02],\n",
    "            [7.15, 1.3474e-01, 6.0109e-02],\n",
    "            [7.25, 2.0971e-01, 7.7965e-02],\n",
    "            [7.35, 1.7161e-01, 3.1841e-02],\n",
    "            [7.45, 2.1648e-01, 5.7832e-02],\n",
    "            [7.55, 2.1645e-01, 3.9988e-02],\n",
    "            [7.65, 2.0837e-01, 4.8713e-02],\n",
    "            [7.75, 2.0402e-01, 7.0061e-02],\n",
    "            [7.85, 1.5536e-01, 3.9182e-02],\n",
    "            [7.95, 1.5232e-01, 2.6824e-02],\n",
    "            [8.05, 1.5067e-01, 4.8824e-02],\n",
    "            [8.15, 1.3032e-01, 2.1892e-02],\n",
    "            [8.25, 1.2545e-01, 3.5526e-02],\n",
    "            [8.35, 9.8472e-02, 2.7181e-02],\n",
    "            [8.45, 8.7194e-02, 2.8345e-02],\n",
    "            [8.55, 7.0758e-02, 2.0808e-02],\n",
    "            [8.65, 5.8190e-02, 1.3359e-02],\n",
    "            [8.75, 5.6057e-02, 1.3512e-02],\n",
    "            [8.85, 5.1380e-02, 1.2815e-02],\n",
    "            [8.95, 4.4206e-02, 9.6866e-03],\n",
    "            [9.05, 4.1149e-02, 1.0169e-02],\n",
    "            [9.15, 3.4959e-02, 6.7898e-03],\n",
    "            [9.25, 3.3111e-02, 8.3704e-03],\n",
    "            [9.35, 3.0138e-02, 4.7741e-03],\n",
    "            [9.45, 2.6692e-02, 5.5029e-03],\n",
    "            [9.55, 2.4656e-02, 4.4359e-03],\n",
    "            [9.65, 2.2885e-02, 3.7915e-03],\n",
    "            [9.75, 2.1849e-02, 3.9812e-03],\n",
    "            [9.85, 2.0383e-02, 3.2930e-03],\n",
    "            [9.95, 1.9929e-02, 2.9370e-03],\n",
    "            [10.05, 1.8865e-02, 2.4624e-03],\n",
    "            [10.15, 1.8136e-02, 2.5208e-03],\n",
    "            [10.25, 1.7657e-02, 2.4217e-03],\n",
    "            [10.35, 1.6616e-02, 2.2784e-03],\n",
    "            [10.45, 1.6114e-02, 2.1783e-03],\n",
    "            [10.55, 1.4366e-02, 1.8819e-03],\n",
    "            [10.65, 1.2588e-02, 1.8249e-03],\n",
    "            [10.75, 1.1372e-02, 1.4436e-03],\n",
    "            [10.85, 9.1213e-03, 1.5816e-03],\n",
    "            [10.95, 6.1125e-03, 9.6735e-04],\n",
    "            [11.05, 4.3923e-03, 9.6254e-04],\n",
    "            [11.15, 2.5463e-03, 5.0038e-04],\n",
    "            [11.25, 1.4298e-03, 4.2816e-04],\n",
    "            [11.35, 6.4867e-04, 1.6439e-04],\n",
    "            [11.45, 2.8294e-04, 9.9799e-05],\n",
    "            [11.55, 1.0617e-04, 4.9085e-05],\n",
    "            [11.65, 3.2702e-05, 2.4546e-05],\n",
    "            [11.75, 1.2571e-05, 1.2571e-05],\n",
    "            [11.85, 8.4589e-06, 8.4589e-06],\n",
    "            [11.95, 7.4764e-06, 7.4764e-06],\n",
    "            ], dtype=np.float32)\n",
    "\n",
    "Baldry_xval = np.log10(10 ** Baldry[:, 0]  /Hubble_h/Hubble_h)\n",
    "#if(whichimf == 1):  Baldry_xval = Baldry_xval - 0.26  # convert back to Chabrier IMF\n",
    "Baldry_yvalU = (Baldry[:, 1]+Baldry[:, 2]) * Hubble_h*Hubble_h*Hubble_h\n",
    "Baldry_yvalL = (Baldry[:, 1]-Baldry[:, 2]) * Hubble_h*Hubble_h*Hubble_h\n",
    "\n",
    "plt.fill_between(Baldry_xval, Baldry_yvalU, Baldry_yvalL, facecolor='purple', alpha=0.25, label='Baldry et al. 2008 (z=0.1)')\n",
    "\n",
    "# This next line is just to get the shaded region to appear correctly in the legend\n",
    "#plt.plot(xaxeshisto, counts / self.volume * Hubble_h*self.Hubble_h*self.Hubble_h / binwidth, label='Baldry et al. 2008', color='purple', alpha=0.3)\n",
    "\n",
    "mi = 8\n",
    "ma = 12\n",
    "NB = int((ma - mi) / binwidth)\n",
    "\n",
    "(s_counts, s_binedges) = np.histogram(np.log10(stellarmass), range=(mi, ma), bins=NB)\n",
    "s_x = s_binedges[:-1] + 0.5 * binwidth\n",
    "\n",
    "#(s1_counts, s1_binedges) = np.histogram(np.log10(stellarmass1), range=(mi, ma), bins=NB)\n",
    "#s1_x = s1_binedges[:-1] + 0.5 * binwidth\n",
    "\n",
    "ax0.plot(s_x, s_counts / (BoxSize/Hubble_h)**3 / binwidth, color='blue', label='Stellar Mass from H2', lw=1.0)\n",
    "#ax0.plot(s1_x, s1_counts / (BoxSize/Hubble_h)**3 / binwidth, color='k', label='Stellar Mass from Cold Gas', lw=1.0)\n",
    "ax0.set_yscale('log', nonposy='clip')\n",
    "\n",
    "ax0.xaxis.set_minor_locator(plt.MultipleLocator(0.1))\n",
    "ax0.set_ylabel(r'$\\phi\\ (\\mathrm{Mpc}^{-3}\\ \\mathrm{dex}^{-1}$)')  # Set the y...\n",
    "ax0.set_xlabel(r'$\\log_{10} M_{\\mathrm{*}}\\ (M_{\\odot})$')\n",
    "ax0.set_xlim(8.0, 11.5)\n",
    "\n",
    "leg = ax0.legend(loc=0, numpoints=1, labelspacing=0.1)\n",
    "leg.draw_frame(False)  # Don't want a box frame\n",
    "for t in leg.get_texts():  # Reduce the size of the text\n",
    "    t.set_fontsize('medium')\n",
    "\n",
    "plt.tight_layout()\n",
    "#plt.savefig('SMF-flatcf.png')\n",
    "plt.show()"
   ]
  },
  {
   "cell_type": "code",
   "execution_count": 16,
   "metadata": {},
   "outputs": [
    {
     "data": {
      "text/plain": [
       "10588"
      ]
     },
     "execution_count": 16,
     "metadata": {},
     "output_type": "execute_result"
    }
   ],
   "source": [
    "w = np.where(stellarmass > 0)[0]\n",
    "len(w)"
   ]
  },
  {
   "cell_type": "code",
   "execution_count": 17,
   "metadata": {},
   "outputs": [
    {
     "data": {
      "text/plain": [
       "array([ 2.06031847], dtype=float32)"
      ]
     },
     "execution_count": 17,
     "metadata": {},
     "output_type": "execute_result"
    }
   ],
   "source": [
    "wg = np.where((G_snap.f_H2 < 0.5) & (G_snap.f_H2 > 0.495))[0]\n",
    "G_snap.ColdGas[wg]"
   ]
  },
  {
   "cell_type": "code",
   "execution_count": 23,
   "metadata": {},
   "outputs": [
    {
     "data": {
      "image/png": "[encoded data removed]",
      "text/plain": [
       "<matplotlib.figure.Figure at 0x1031cd588>"
      ]
     },
     "metadata": {},
     "output_type": "display_data"
    }
   ],
   "source": [
    "plt.figure()  # New figure\n",
    "ax = plt.subplot(111)  # 1 plot on the figure\n",
    "w = np.where(G_snap.Zp > 0)[0]      \n",
    "Z = (G_snap.Zp)\n",
    "cf = G_snap.cf\n",
    "plt.plot(Z, cf, '.')\n",
    "plt.xlim(-0.1, 3.0)\n",
    "#plt.xscale('log', nonposy='clip')\n",
    "plt.xlabel(r'Z(Z$\\odot)$')\n",
    "plt.ylabel('Clumping Factor')\n",
    "#plt.savefig('flatcf.png')\n",
    "plt.show()"
   ]
  },
  {
   "cell_type": "code",
   "execution_count": 19,
   "metadata": {},
   "outputs": [
    {
     "data": {
      "image/png": "[encoded data removed]",
      "text/plain": [
       "<matplotlib.figure.Figure at 0x10c73d438>"
      ]
     },
     "metadata": {},
     "output_type": "display_data"
    }
   ],
   "source": [
    "\n",
    "plt.figure()  # New figure\n",
    "ax = plt.subplot(111)  # 1 plot on the figure\n",
    "w = np.where(G_snap.ColdGas > 0)[0]      \n",
    "cg = np.log10(G_snap.ColdGas[w] * 1.e10 /Hubble_h)\n",
    "f_H2 = G_snap.f_H2[w]\n",
    "plt.plot(cg, f_H2, '.')\n",
    "#plt.xlim(0.0, 0.25e10)\n",
    "#plt.xlabel(r'$12\\ +\\ \\log_{10}[\\mathrm{O/H}]$')\n",
    "#plt.ylabel('Clumping Factor')\n",
    "plt.show()\n"
   ]
  },
  {
   "cell_type": "code",
   "execution_count": 20,
   "metadata": {},
   "outputs": [
    {
     "data": {
      "text/plain": [
       "35482"
      ]
     },
     "execution_count": 20,
     "metadata": {},
     "output_type": "execute_result"
    }
   ],
   "source": [
    "len(w)"
   ]
  },
  {
   "cell_type": "code",
   "execution_count": null,
   "metadata": {},
   "outputs": [],
   "source": []
  },
  {
   "cell_type": "code",
   "execution_count": null,
   "metadata": {},
   "outputs": [],
   "source": []
  },
  {
   "cell_type": "code",
   "execution_count": null,
   "metadata": {},
   "outputs": [],
   "source": []
  },
  {
   "cell_type": "code",
   "execution_count": null,
   "metadata": {},
   "outputs": [],
   "source": []
  },
  {
   "cell_type": "code",
   "execution_count": null,
   "metadata": {
    "collapsed": true
   },
   "outputs": [],
   "source": []
  }
 ],
 "metadata": {
  "kernelspec": {
   "display_name": "Python 3",
   "language": "python",
   "name": "python3"
  },
  "language_info": {
   "codemirror_mode": {
    "name": "ipython",
    "version": 3
   },
   "file_extension": ".py",
   "mimetype": "text/x-python",
   "name": "python",
   "nbconvert_exporter": "python",
   "pygments_lexer": "ipython3",
   "version": "3.6.3"
  }
 },
 "nbformat": 4,
 "nbformat_minor": 2
}
